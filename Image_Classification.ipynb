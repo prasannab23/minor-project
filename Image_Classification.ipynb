{
  "nbformat": 4,
  "nbformat_minor": 0,
  "metadata": {
    "colab": {
      "name": "Image Classification.ipynb",
      "provenance": [],
      "collapsed_sections": [],
      "authorship_tag": "ABX9TyO+3bgkKEgSMUQ8jTEOmY4G",
      "include_colab_link": true
    },
    "kernelspec": {
      "name": "python3",
      "display_name": "Python 3"
    },
    "language_info": {
      "name": "python"
    }
  },
  "cells": [
    {
      "cell_type": "markdown",
      "metadata": {
        "id": "view-in-github",
        "colab_type": "text"
      },
      "source": [
        "<a href=\"https://colab.research.google.com/github/prasannab23/minor-project/blob/main/Image_Classification.ipynb\" target=\"_parent\"><img src=\"https://colab.research.google.com/assets/colab-badge.svg\" alt=\"Open In Colab\"/></a>"
      ]
    },
    {
      "cell_type": "code",
      "metadata": {
        "colab": {
          "base_uri": "https://localhost:8080/"
        },
        "id": "x6JUFHN1Xr3I",
        "outputId": "4befbe2d-d509-4c67-d8a2-52b0ba65b188"
      },
      "source": [
        "!pip install ipython-autotime\n",
        "%load_ext autotime"
      ],
      "execution_count": 6,
      "outputs": [
        {
          "output_type": "stream",
          "text": [
            "Collecting ipython-autotime\n",
            "  Downloading https://files.pythonhosted.org/packages/b4/c9/b413a24f759641bc27ef98c144b590023c8038dfb8a3f09e713e9dff12c1/ipython_autotime-0.3.1-py2.py3-none-any.whl\n",
            "Requirement already satisfied: ipython in /usr/local/lib/python3.7/dist-packages (from ipython-autotime) (5.5.0)\n",
            "Requirement already satisfied: pexpect; sys_platform != \"win32\" in /usr/local/lib/python3.7/dist-packages (from ipython->ipython-autotime) (4.8.0)\n",
            "Requirement already satisfied: simplegeneric>0.8 in /usr/local/lib/python3.7/dist-packages (from ipython->ipython-autotime) (0.8.1)\n",
            "Requirement already satisfied: pickleshare in /usr/local/lib/python3.7/dist-packages (from ipython->ipython-autotime) (0.7.5)\n",
            "Requirement already satisfied: pygments in /usr/local/lib/python3.7/dist-packages (from ipython->ipython-autotime) (2.6.1)\n",
            "Requirement already satisfied: setuptools>=18.5 in /usr/local/lib/python3.7/dist-packages (from ipython->ipython-autotime) (57.0.0)\n",
            "Requirement already satisfied: prompt-toolkit<2.0.0,>=1.0.4 in /usr/local/lib/python3.7/dist-packages (from ipython->ipython-autotime) (1.0.18)\n",
            "Requirement already satisfied: decorator in /usr/local/lib/python3.7/dist-packages (from ipython->ipython-autotime) (4.4.2)\n",
            "Requirement already satisfied: traitlets>=4.2 in /usr/local/lib/python3.7/dist-packages (from ipython->ipython-autotime) (5.0.5)\n",
            "Requirement already satisfied: ptyprocess>=0.5 in /usr/local/lib/python3.7/dist-packages (from pexpect; sys_platform != \"win32\"->ipython->ipython-autotime) (0.7.0)\n",
            "Requirement already satisfied: wcwidth in /usr/local/lib/python3.7/dist-packages (from prompt-toolkit<2.0.0,>=1.0.4->ipython->ipython-autotime) (0.2.5)\n",
            "Requirement already satisfied: six>=1.9.0 in /usr/local/lib/python3.7/dist-packages (from prompt-toolkit<2.0.0,>=1.0.4->ipython->ipython-autotime) (1.15.0)\n",
            "Requirement already satisfied: ipython-genutils in /usr/local/lib/python3.7/dist-packages (from traitlets>=4.2->ipython->ipython-autotime) (0.2.0)\n",
            "Installing collected packages: ipython-autotime\n",
            "Successfully installed ipython-autotime-0.3.1\n",
            "time: 299 µs (started: 2021-06-28 11:27:19 +00:00)\n"
          ],
          "name": "stdout"
        }
      ]
    },
    {
      "cell_type": "code",
      "metadata": {
        "colab": {
          "base_uri": "https://localhost:8080/"
        },
        "id": "7Rt6vGntShyG",
        "outputId": "cfe016cb-a091-4af2-8b5d-863b49086510"
      },
      "source": [
        "!pip install bing-image-downloader"
      ],
      "execution_count": 1,
      "outputs": [
        {
          "output_type": "stream",
          "text": [
            "Collecting bing-image-downloader\n",
            "  Downloading https://files.pythonhosted.org/packages/c2/04/1872a689a30036aa0b81ac9fca124a7413cad71fdab714f727cf1a34b671/bing_image_downloader-1.1.1-py3-none-any.whl\n",
            "Installing collected packages: bing-image-downloader\n",
            "Successfully installed bing-image-downloader-1.1.1\n"
          ],
          "name": "stdout"
        }
      ]
    },
    {
      "cell_type": "code",
      "metadata": {
        "id": "h-27BSGhTnxb"
      },
      "source": [
        "!mkdir images"
      ],
      "execution_count": 2,
      "outputs": []
    },
    {
      "cell_type": "code",
      "metadata": {
        "colab": {
          "base_uri": "https://localhost:8080/"
        },
        "id": "AlnKQ3JBUmfe",
        "outputId": "568bd32d-8be3-4012-cdc0-9a01a00e0241"
      },
      "source": [
        "from bing_image_downloader import downloader\n",
        "downloader.download(\"car\",limit=30,output_dir='images',adult_filter_off=True)"
      ],
      "execution_count": 3,
      "outputs": [
        {
          "output_type": "stream",
          "text": [
            "[%] Downloading Images to /content/images/car\n",
            "\n",
            "\n",
            "[!!]Indexing page: 1\n",
            "\n",
            "[%] Indexed 30 Images on Page 1.\n",
            "\n",
            "===============================================\n",
            "\n",
            "[%] Downloading Image #1 from http://jaikrishnaamaruti.com/uploads/truevalue_cars/0_27-01-2018_16-03-53.jpg\n",
            "[%] File Downloaded !\n",
            "\n",
            "[%] Downloading Image #2 from https://cdn-news.warriortrading.com/wp-content/uploads/2017/02/19182100/TRUE-Logo.jpg\n",
            "[%] File Downloaded !\n",
            "\n",
            "[%] Downloading Image #3 from https://static.carthrottle.com/workspace/uploads/posts/2017/12/0fcad9c9368abebdbfb8aaf0211bf96b.jpg\n",
            "[%] File Downloaded !\n",
            "\n",
            "[%] Downloading Image #4 from http://jaikrishnaamaruti.com/uploads/truevalue_cars/0_15-10-2020_10-03-43.jpeg\n",
            "[%] File Downloaded !\n",
            "\n",
            "[%] Downloading Image #5 from http://jaikrishnaamaruti.com/uploads/truevalue_cars/1_06-03-2018_11-36-40.jpg\n",
            "[%] File Downloaded !\n",
            "\n",
            "[%] Downloading Image #6 from http://www.thedetroitbureau.com/wp-content/uploads/2011/08/TrueCar-Logo.jpg\n",
            "[%] File Downloaded !\n",
            "\n",
            "[%] Downloading Image #7 from https://di-uploads-pod4.s3.amazonaws.com/oxmoortoyota/uploads/2015/01/True-Car-Logo.jpg\n",
            "[%] File Downloaded !\n",
            "\n",
            "[%] Downloading Image #8 from http://jaikrishnaamaruti.com/uploads/truevalue_cars/1_06-03-2018_11-40-09.jpg\n",
            "[%] File Downloaded !\n",
            "\n",
            "[%] Downloading Image #9 from https://i.pinimg.com/originals/58/b6/1c/58b61c6bb0431d1aa3d6e26916cc16e1.jpg\n",
            "[%] File Downloaded !\n",
            "\n",
            "[%] Downloading Image #10 from https://i.pinimg.com/736x/b6/b7/3e/b6b73eac3c2a914cec988a110add8161.jpg\n",
            "[%] File Downloaded !\n",
            "\n",
            "[%] Downloading Image #11 from https://cdnwestus.azureedge.net/mediacontainer/19874_large.png\n",
            "[%] File Downloaded !\n",
            "\n",
            "[%] Downloading Image #12 from http://jaikrishnaamaruti.com/uploads/truevalue_cars/3_29-09-2016_12-43-24.jpg\n",
            "[%] File Downloaded !\n",
            "\n",
            "[%] Downloading Image #13 from http://jaikrishnaamaruti.com/uploads/truevalue_cars/1_06-03-2018_11-58-12.jpg\n",
            "[%] File Downloaded !\n",
            "\n",
            "[%] Downloading Image #14 from http://www.imcdb.org/i324246.jpg\n",
            "[Error]Invalid image, not saving http://www.imcdb.org/i324246.jpg\n",
            "\n",
            "[!] Issue getting: http://www.imcdb.org/i324246.jpg\n",
            "[!] Error:: Invalid image, not saving http://www.imcdb.org/i324246.jpg\n",
            "\n",
            "[%] Downloading Image #14 from http://jaikrishnaamaruti.com/uploads/truevalue_cars/1_15-10-2016_11-06-49.jpg\n",
            "[%] File Downloaded !\n",
            "\n",
            "[%] Downloading Image #15 from http://jaikrishnaamaruti.com/uploads/truevalue_cars/0_06-03-2018_11-36-40.jpg\n",
            "[%] File Downloaded !\n",
            "\n",
            "[%] Downloading Image #16 from http://jaikrishnaamaruti.com/uploads/truevalue_cars/1_10-02-2018_12-35-46.jpg\n",
            "[%] File Downloaded !\n",
            "\n",
            "[%] Downloading Image #17 from https://external-preview.redd.it/pbEfLIYe90hFmJFBXWG8K0oXU4ayUl-6-USZlF7G_qk.jpg?auto=webp&amp;s=b2d9b17a5a84826506058e26ddbaeead84d0761a\n",
            "[!] Issue getting: https://external-preview.redd.it/pbEfLIYe90hFmJFBXWG8K0oXU4ayUl-6-USZlF7G_qk.jpg?auto=webp&amp;s=b2d9b17a5a84826506058e26ddbaeead84d0761a\n",
            "[!] Error:: HTTP Error 403: Forbidden\n",
            "[%] Downloading Image #17 from http://jaikrishnaamaruti.com/uploads/truevalue_cars/2_10-09-2016_12-41-14.jpg\n",
            "[%] File Downloaded !\n",
            "\n",
            "[%] Downloading Image #18 from https://yt3.ggpht.com/a-/AAuE7mALGC_R3AcUGBgtGhF9e-Bdb3JhYeo53mniPA=s900-mo-c-c0xffffffff-rj-k-no\n",
            "[%] File Downloaded !\n",
            "\n",
            "[%] Downloading Image #19 from https://images.ctfassets.net/h52as2aiqybp/1Rb2TVz3n9Rc0DtZQxqGyT/ad91f459891afbca24931d1b233f9117/TrueCarlogonew.png\n",
            "[%] File Downloaded !\n",
            "\n",
            "[%] Downloading Image #20 from http://jaikrishnaamaruti.com/uploads/truevalue_cars/0_13-08-2020_12-54-32.jpeg\n",
            "[%] File Downloaded !\n",
            "\n",
            "[%] Downloading Image #21 from http://media.mlive.com/auto_impact/photo/11892263-large.jpg\n",
            "[%] File Downloaded !\n",
            "\n",
            "[%] Downloading Image #22 from http://www.louisgray.com/graphics/bmw_800a.jpg\n",
            "[%] File Downloaded !\n",
            "\n",
            "[%] Downloading Image #23 from https://i.pinimg.com/originals/54/fe/41/54fe41a04ae68d89cf3da278b95c0124.jpg\n",
            "[%] File Downloaded !\n",
            "\n",
            "[%] Downloading Image #24 from https://cdn.motor1.com/images/mgl/8gJ93/s4/amc-amx-the-first-true-sports-car-of-the-1960s.jpg\n",
            "[%] File Downloaded !\n",
            "\n",
            "[%] Downloading Image #25 from http://jaikrishnaamaruti.com/uploads/truevalue_cars/0_03-08-2018_12-22-54.jpg\n",
            "[%] File Downloaded !\n",
            "\n",
            "[%] Downloading Image #26 from https://media.whatcar.com/wc-image/2020-01/truempgestates.jpg\n",
            "[%] File Downloaded !\n",
            "\n",
            "[%] Downloading Image #27 from https://trueprice.co.za/images/news/which-cars-have-the-best-resale-value.jpg\n",
            "[%] File Downloaded !\n",
            "\n",
            "[%] Downloading Image #28 from http://c2c.sulekhalive.com/cars/images/variants/general-car-photos/thumbnailfull/maruti-true-value-ecr4.jpg\n",
            "[%] File Downloaded !\n",
            "\n",
            "\n",
            "\n",
            "[!!]Indexing page: 2\n",
            "\n",
            "[%] Indexed 35 Images on Page 2.\n",
            "\n",
            "===============================================\n",
            "\n",
            "[%] Downloading Image #29 from http://jaikrishnaamaruti.com/uploads/truevalue_cars/0_27-01-2018_16-03-53.jpg\n",
            "[%] File Downloaded !\n",
            "\n",
            "[%] Downloading Image #30 from https://cdn-news.warriortrading.com/wp-content/uploads/2017/02/19182100/TRUE-Logo.jpg\n",
            "[%] File Downloaded !\n",
            "\n",
            "\n",
            "\n",
            "[%] Done. Downloaded 30 images.\n",
            "===============================================\n",
            "\n",
            "Please show your support here\n",
            "https://www.buymeacoffee.com/gurugaurav\n",
            "\n",
            "===============================================\n",
            "\n"
          ],
          "name": "stdout"
        }
      ]
    },
    {
      "cell_type": "code",
      "metadata": {
        "colab": {
          "base_uri": "https://localhost:8080/"
        },
        "id": "wR9UEzZiWDZL",
        "outputId": "bd79458c-ca0b-44f9-f763-d18b65ff4fdf"
      },
      "source": [
        "downloader.download(\"motor bike\",limit=30,output_dir='images',adult_filter_off=True)"
      ],
      "execution_count": 4,
      "outputs": [
        {
          "output_type": "stream",
          "text": [
            "[%] Downloading Images to /content/images/motor bike\n",
            "\n",
            "\n",
            "[!!]Indexing page: 1\n",
            "\n",
            "[%] Indexed 30 Images on Page 1.\n",
            "\n",
            "===============================================\n",
            "\n",
            "[%] Downloading Image #1 from https://yt3.ggpht.com/a/AATXAJy3C2ddP87YyFUQw9BJMNFRehHiuBQd_1jgmux-RQ=s900-c-k-c0xffffffff-no-rj-mo\n",
            "[%] File Downloaded !\n",
            "\n",
            "[%] Downloading Image #2 from https://i.pinimg.com/originals/d2/f3/88/d2f388798c7d18f3a9d99bdded416778.jpg\n",
            "[%] File Downloaded !\n",
            "\n",
            "[%] Downloading Image #3 from https://uploads.tapatalk-cdn.com/20201031/7978c3d16127bebd58d7ff5bf808012a.jpg\n",
            "[%] File Downloaded !\n",
            "\n",
            "[%] Downloading Image #4 from https://i.pinimg.com/736x/00/6b/8c/006b8c48b868d930eedf3cb04f2fed59.jpg\n",
            "[%] File Downloaded !\n",
            "\n",
            "[%] Downloading Image #5 from https://i.pinimg.com/originals/35/f0/06/35f0065953753741d3ff40c177031e56.jpg\n",
            "[%] File Downloaded !\n",
            "\n",
            "[%] Downloading Image #6 from https://i.pinimg.com/originals/3c/7c/37/3c7c3789a297df5c18b63b3293e05614.jpg\n",
            "[%] File Downloaded !\n",
            "\n",
            "[%] Downloading Image #7 from https://i.pinimg.com/originals/f3/22/e1/f322e11ff7edda5475d59603daae3772.jpg\n",
            "[%] File Downloaded !\n",
            "\n",
            "[%] Downloading Image #8 from https://i.ebayimg.com/00/s/NDY3WDcwMA==/z/qGUAAOSwq9NZu~hV/$_57.JPG?set_id=8800005007\n",
            "[%] File Downloaded !\n",
            "\n",
            "[%] Downloading Image #9 from https://i.ytimg.com/vi/DajiJSLiXz4/maxresdefault.jpg\n",
            "[%] File Downloaded !\n",
            "\n",
            "[%] Downloading Image #10 from https://i.pinimg.com/736x/6c/19/59/6c1959695987a21666a31184249c6616--blue-motorcycles.jpg\n",
            "[%] File Downloaded !\n",
            "\n",
            "[%] Downloading Image #11 from https://149346387.v2.pressablecdn.com/wp-content/uploads/2020/06/1S46E-30.png\n",
            "[%] File Downloaded !\n",
            "\n",
            "[%] Downloading Image #12 from https://www.indianmotorcycles.net/attachments/country-ride-jpg.20463/\n",
            "[%] File Downloaded !\n",
            "\n",
            "[%] Downloading Image #13 from https://ridersrecycle.com/blog/wp-content/uploads/2012/06/rt3.jpg\n",
            "[%] File Downloaded !\n",
            "\n",
            "[%] Downloading Image #14 from https://rinehartracing.com/wp-content/uploads/2015/03/RR15_0620-XTremes-100-01200-Touring-Front-Angle.jpg\n",
            "[%] File Downloaded !\n",
            "\n",
            "[%] Downloading Image #15 from https://cdn.dealerspike.com/imglib/v1/800x600/imglib/Assets/Inventory/2D/F2/2DF2876D-5C58-408D-B198-282369CEED73.jpg\n",
            "[%] File Downloaded !\n",
            "\n",
            "[%] Downloading Image #16 from https://blog.motorcycle.com/wp-content/uploads/2018/03/032318-True-American-Heroes-Weekend-XSR700.jpg\n",
            "[%] File Downloaded !\n",
            "\n",
            "[%] Downloading Image #17 from http://www.bassanipipes.com/images/products/detail/8C16SB.jpg\n",
            "[%] File Downloaded !\n",
            "\n",
            "[%] Downloading Image #18 from http://pm1.narvii.com/7447/ddae9b351979f039449558ed0537deaf361debb1r1-720-717v2_uhq.jpg\n",
            "[%] File Downloaded !\n",
            "\n",
            "[%] Downloading Image #19 from https://i.pinimg.com/originals/a4/63/73/a46373ae65f56c037cf2396f2b7b311e.jpg\n",
            "[%] File Downloaded !\n",
            "\n",
            "[%] Downloading Image #20 from https://www.indianmotorcycles.net/attachments/img_5495-jpg.224409/\n",
            "[%] File Downloaded !\n",
            "\n",
            "[%] Downloading Image #21 from https://i.pinimg.com/originals/af/95/ba/af95ba6c831aa19dff282a44b993967a.jpg\n",
            "[%] File Downloaded !\n",
            "\n",
            "[%] Downloading Image #22 from https://i.pinimg.com/originals/a4/47/73/a44773b7cedaceed22dae37e2689c68a.jpg\n",
            "[%] File Downloaded !\n",
            "\n",
            "[%] Downloading Image #23 from https://www.chiefmotorcycleforum.com/gallery/343-280614215003.jpeg\n",
            "[%] File Downloaded !\n",
            "\n",
            "[%] Downloading Image #24 from http://clementcycling.com/wp-content/uploads/2018/11/The-Joker.jpg\n",
            "[%] File Downloaded !\n",
            "\n",
            "[%] Downloading Image #25 from https://i.ytimg.com/vi/pZwNtS9O8do/maxresdefault.jpg\n",
            "[%] File Downloaded !\n",
            "\n",
            "[%] Downloading Image #26 from http://www.bassanipipes.com/images/products/detail/8C16SB_Angle.jpg\n",
            "[%] File Downloaded !\n",
            "\n",
            "[%] Downloading Image #27 from https://ultimatemotorcycling.com/wp-content/uploads/2019/04/2019-true-kick-off-2019-motorcycle-season-1-1.jpg\n",
            "[%] File Downloaded !\n",
            "\n",
            "[%] Downloading Image #28 from https://www.easternperformance.com/media/catalog/product/cache/1/image/800x800/9df78eab33525d08d6e5fb8d27136e95/3/0/30-0940_2.jpg\n",
            "[%] File Downloaded !\n",
            "\n",
            "[%] Downloading Image #29 from http://www.roadrunner.travel/wp/wp-content/uploads/Velo1-772x603.jpg\n",
            "[%] File Downloaded !\n",
            "\n",
            "[%] Downloading Image #30 from http://blog.denniskirk.com/wp-content/uploads/sites/4/2018/09/True-Dual-Exhaust-Example.jpg\n",
            "[%] File Downloaded !\n",
            "\n",
            "\n",
            "\n",
            "[%] Done. Downloaded 30 images.\n",
            "===============================================\n",
            "\n",
            "Please show your support here\n",
            "https://www.buymeacoffee.com/gurugaurav\n",
            "\n",
            "===============================================\n",
            "\n"
          ],
          "name": "stdout"
        }
      ]
    },
    {
      "cell_type": "code",
      "metadata": {
        "colab": {
          "base_uri": "https://localhost:8080/"
        },
        "id": "hop6k6aHWn-F",
        "outputId": "63daf959-3463-4ce2-e6cb-26acf20533ae"
      },
      "source": [
        "downloader.download(\"ice cream\",limit=30,output_dir='images',adult_filter_off=True)"
      ],
      "execution_count": 5,
      "outputs": [
        {
          "output_type": "stream",
          "text": [
            "[%] Downloading Images to /content/images/ice cream\n",
            "\n",
            "\n",
            "[!!]Indexing page: 1\n",
            "\n",
            "[%] Indexed 30 Images on Page 1.\n",
            "\n",
            "===============================================\n",
            "\n",
            "[%] Downloading Image #1 from https://www.gnc.com.sg/dw/image/v2/BCXD_PRD/on/demandware.static/-/Sites-masterCatalog_GNC/en_SG/dw88cfd921/product-images/47601680_bsn_true-mass-vanilla-ice-cream_5.82lb_1635x1227_web.jpg?sw=1635&amp;sh=1226&amp;sm=fit\n",
            "[%] File Downloaded !\n",
            "\n",
            "[%] Downloading Image #2 from https://fastnutri.vteximg.com.br/arquivos/ids/159946-1000-1000/TRUESOURCE-TRUEWHEY-1LB-COCO-1000x1000.jpg?v=637112362190830000\n",
            "[Error]Invalid image, not saving https://fastnutri.vteximg.com.br/arquivos/ids/159946-1000-1000/TRUESOURCE-TRUEWHEY-1LB-COCO-1000x1000.jpg?v=637112362190830000\n",
            "\n",
            "[!] Issue getting: https://fastnutri.vteximg.com.br/arquivos/ids/159946-1000-1000/TRUESOURCE-TRUEWHEY-1LB-COCO-1000x1000.jpg?v=637112362190830000\n",
            "[!] Error:: Invalid image, not saving https://fastnutri.vteximg.com.br/arquivos/ids/159946-1000-1000/TRUESOURCE-TRUEWHEY-1LB-COCO-1000x1000.jpg?v=637112362190830000\n",
            "\n",
            "[%] Downloading Image #2 from https://i.ytimg.com/vi/TZcFbgwqDXA/maxresdefault.jpg\n",
            "[%] File Downloaded !\n",
            "\n",
            "[%] Downloading Image #3 from https://images.tcdn.com.br/img/img_prod/608770/true_whey_coco_ice_cream_837g_proteina_isolada_hidrolisada_105147_1_20190726115216.jpg\n",
            "[%] File Downloaded !\n",
            "\n",
            "[%] Downloading Image #4 from https://www.postcardslive.com/wp-content/uploads/2017/05/2017-05May-Recipes-IceCream-Feature.jpg\n",
            "[%] File Downloaded !\n",
            "\n",
            "[%] Downloading Image #5 from https://media.foody.vn/blogscontents/foody-upload-api-foody-admin-foody-th-true-mart-nguyen-trai-7000008-201014193421.jpg\n",
            "[Error]Invalid image, not saving https://media.foody.vn/blogscontents/foody-upload-api-foody-admin-foody-th-true-mart-nguyen-trai-7000008-201014193421.jpg\n",
            "\n",
            "[!] Issue getting: https://media.foody.vn/blogscontents/foody-upload-api-foody-admin-foody-th-true-mart-nguyen-trai-7000008-201014193421.jpg\n",
            "[!] Error:: Invalid image, not saving https://media.foody.vn/blogscontents/foody-upload-api-foody-admin-foody-th-true-mart-nguyen-trai-7000008-201014193421.jpg\n",
            "\n",
            "[%] Downloading Image #5 from https://cdn-www.vinid.net/2020/06/17bf3627-20200529_appvinid_bannerweb_thtruecream.jpg\n",
            "[%] File Downloaded !\n",
            "\n",
            "[%] Downloading Image #6 from https://static2.yan.vn/YanNews/2167221/201807/th-true-ice-cream-con-loc-mat-lanh-khong-the-thieu-cho-ngay-he-f8ef47d5.png\n",
            "[%] File Downloaded !\n",
            "\n",
            "[%] Downloading Image #7 from https://www.gnc.com.sg/dw/image/v2/BCXD_PRD/on/demandware.static/-/Sites-masterCatalog_GNC/en_SG/dw545c9b99/product-images/47601210_bsn_true-mass-1200-vanilla-ice-cream_10.25-lb_1635x1227_web.jpg?sw=1635&amp;sh=1226&amp;sm=fit\n",
            "[%] File Downloaded !\n",
            "\n",
            "[%] Downloading Image #8 from https://ediblesouthflorida.ediblecommunities.com/sites/default/files/images/recipe/True-Coconut-Ice-Cream-(c)-Matthew-Septimus.jpg\n",
            "[%] File Downloaded !\n",
            "\n",
            "[%] Downloading Image #9 from https://pilulkask.vshcdn.net/assets/image/2019-05/e034beb3228a3f852148c4f629b86eae.jpg?v=1557553214&amp;d=600x\n",
            "[%] File Downloaded !\n",
            "\n",
            "[%] Downloading Image #10 from https://www.keyingredient.com/media/3c/d4/9f4811821ead5f51e8a6a5a59e1588203bd3.jpg/rh/true-vanilla-ice-cream.jpg\n",
            "[%] File Downloaded !\n",
            "\n",
            "[%] Downloading Image #11 from https://true-north-kitchen.com/wp-content/uploads/2019/08/roasted-peach-ginger-ice-cream-2-e1565876291222.jpg\n",
            "[%] File Downloaded !\n",
            "\n",
            "[%] Downloading Image #12 from http://www.truehealthmagazine.co.uk/wp-content/uploads/2018/04/Raspberry-Ripple-Ice-Cream.jpg\n",
            "[%] File Downloaded !\n",
            "\n",
            "[%] Downloading Image #13 from https://external-preview.redd.it/PSwvEBK9ckHDWxEo_6a02vEmbaaLqfySvoUkZhfhEJo.jpg?auto=webp&amp;s=0f9181c5c6bc05c23e3e505af7b19f1bcf7417bf\n",
            "[!] Issue getting: https://external-preview.redd.it/PSwvEBK9ckHDWxEo_6a02vEmbaaLqfySvoUkZhfhEJo.jpg?auto=webp&amp;s=0f9181c5c6bc05c23e3e505af7b19f1bcf7417bf\n",
            "[!] Error:: HTTP Error 403: Forbidden\n",
            "[%] Downloading Image #13 from https://media.foody.vn/blogscontents/foody-upload-api-foody-admin-foody-th-true-mart-nguyen-trai-7000008-201014193406.jpg\n",
            "[Error]Invalid image, not saving https://media.foody.vn/blogscontents/foody-upload-api-foody-admin-foody-th-true-mart-nguyen-trai-7000008-201014193406.jpg\n",
            "\n",
            "[!] Issue getting: https://media.foody.vn/blogscontents/foody-upload-api-foody-admin-foody-th-true-mart-nguyen-trai-7000008-201014193406.jpg\n",
            "[!] Error:: Invalid image, not saving https://media.foody.vn/blogscontents/foody-upload-api-foody-admin-foody-th-true-mart-nguyen-trai-7000008-201014193406.jpg\n",
            "\n",
            "[%] Downloading Image #13 from https://i2.wp.com/foxeslovelemons.com/wp-content/uploads/2013/08/True-Mint-Ice-Cream11.jpg\n",
            "[%] File Downloaded !\n",
            "\n",
            "[%] Downloading Image #14 from https://forgetsomeday.com/wp-content/uploads/Munich-4.jpg\n",
            "[%] File Downloaded !\n",
            "\n",
            "[%] Downloading Image #15 from https://i.pinimg.com/originals/b5/bd/72/b5bd729923fade6a3defca168978c133.jpg\n",
            "[%] File Downloaded !\n",
            "\n",
            "[%] Downloading Image #16 from https://foxeslovelemons.com/wp-content/uploads/2013/08/True-Mint-Ice-Cream2-720x720.jpg\n",
            "[%] File Downloaded !\n",
            "\n",
            "[%] Downloading Image #17 from http://baking-ginger.com/wp-content/uploads/2016/08/VEGAN-PISTACHIO-and-ALMOND-Ice-Cream-So-rich-and-creamy-perfectly-sweet-and-so-delicious-vegan-icecream-recipe-pistachio-dessert.jpg\n",
            "[%] File Downloaded !\n",
            "\n",
            "[%] Downloading Image #18 from https://townsquare.media/site/698/files/2017/02/RS14601_487960675-scr.jpg?w=600&amp;h=0&amp;zc=1&amp;s=0&amp;a=t&amp;q=89\n",
            "[%] File Downloaded !\n",
            "\n",
            "[%] Downloading Image #19 from https://i.pinimg.com/originals/b6/22/75/b62275bcd49a9a6417223bb095b30fa0.jpg\n",
            "[%] File Downloaded !\n",
            "\n",
            "[%] Downloading Image #20 from http://baking-ginger.com/wp-content/uploads/2016/08/Vegan-Peach-Ice-Cream-4.jpg\n",
            "[%] File Downloaded !\n",
            "\n",
            "[%] Downloading Image #21 from https://i.pinimg.com/originals/1f/a9/0a/1fa90a6f2664f2860d98b76f13563117.jpg\n",
            "[%] File Downloaded !\n",
            "\n",
            "[%] Downloading Image #22 from http://www.utahpeoplespost.com/wp-content/uploads/2015/09/A-Dream-Come-True-Slow-Melting-Ice-Cream.png\n",
            "[%] File Downloaded !\n",
            "\n",
            "[%] Downloading Image #23 from https://i.pinimg.com/originals/f5/0b/59/f50b59c139082d212feaa12527584d37.jpg\n",
            "[%] File Downloaded !\n",
            "\n",
            "[%] Downloading Image #24 from https://i.pinimg.com/originals/cb/b3/82/cbb38241d97bb5af1e7ee6827be975f3.jpg\n",
            "[%] File Downloaded !\n",
            "\n",
            "[%] Downloading Image #25 from https://www.eatyourselfskinny.com/wp-content/uploads/2017/03/strawberry-ice-cream-22-1096x1644.jpg\n",
            "[%] File Downloaded !\n",
            "\n",
            "[%] Downloading Image #26 from http://baking-ginger.com/wp-content/uploads/2016/08/CREAMY-Golden-Milk-ICE-CREAM-vegan-glutenfree-healthy-icecream-dessert-recipe-turmeric-.jpg\n",
            "[%] File Downloaded !\n",
            "\n",
            "\n",
            "\n",
            "[!!]Indexing page: 2\n",
            "\n",
            "[%] Indexed 35 Images on Page 2.\n",
            "\n",
            "===============================================\n",
            "\n",
            "[%] Downloading Image #27 from https://www.gnc.com.sg/dw/image/v2/BCXD_PRD/on/demandware.static/-/Sites-masterCatalog_GNC/en_SG/dw88cfd921/product-images/47601680_bsn_true-mass-vanilla-ice-cream_5.82lb_1635x1227_web.jpg?sw=1635&amp;sh=1226&amp;sm=fit\n",
            "[%] File Downloaded !\n",
            "\n",
            "[%] Downloading Image #28 from https://fastnutri.vteximg.com.br/arquivos/ids/159946-1000-1000/TRUESOURCE-TRUEWHEY-1LB-COCO-1000x1000.jpg?v=637112362190830000\n",
            "[Error]Invalid image, not saving https://fastnutri.vteximg.com.br/arquivos/ids/159946-1000-1000/TRUESOURCE-TRUEWHEY-1LB-COCO-1000x1000.jpg?v=637112362190830000\n",
            "\n",
            "[!] Issue getting: https://fastnutri.vteximg.com.br/arquivos/ids/159946-1000-1000/TRUESOURCE-TRUEWHEY-1LB-COCO-1000x1000.jpg?v=637112362190830000\n",
            "[!] Error:: Invalid image, not saving https://fastnutri.vteximg.com.br/arquivos/ids/159946-1000-1000/TRUESOURCE-TRUEWHEY-1LB-COCO-1000x1000.jpg?v=637112362190830000\n",
            "\n",
            "[%] Downloading Image #28 from https://i.ytimg.com/vi/TZcFbgwqDXA/maxresdefault.jpg\n",
            "[%] File Downloaded !\n",
            "\n",
            "[%] Downloading Image #29 from https://images.tcdn.com.br/img/img_prod/608770/true_whey_coco_ice_cream_837g_proteina_isolada_hidrolisada_105147_1_20190726115216.jpg\n",
            "[%] File Downloaded !\n",
            "\n",
            "[%] Downloading Image #30 from https://www.postcardslive.com/wp-content/uploads/2017/05/2017-05May-Recipes-IceCream-Feature.jpg\n",
            "[%] File Downloaded !\n",
            "\n",
            "\n",
            "\n",
            "[%] Done. Downloaded 30 images.\n",
            "===============================================\n",
            "\n",
            "Please show your support here\n",
            "https://www.buymeacoffee.com/gurugaurav\n",
            "\n",
            "===============================================\n",
            "\n"
          ],
          "name": "stdout"
        }
      ]
    },
    {
      "cell_type": "code",
      "metadata": {
        "colab": {
          "base_uri": "https://localhost:8080/"
        },
        "id": "8CYO4SuHY4k_",
        "outputId": "ffdf0150-0edc-46d4-de6b-9e780707217a"
      },
      "source": [
        "import numpy as np\n",
        "a = np.array([[1,2,3,4,5],[4,5,6,7,8]])\n",
        "a.ndim"
      ],
      "execution_count": 9,
      "outputs": [
        {
          "output_type": "execute_result",
          "data": {
            "text/plain": [
              "2"
            ]
          },
          "metadata": {
            "tags": []
          },
          "execution_count": 9
        },
        {
          "output_type": "stream",
          "text": [
            "time: 3.42 ms (started: 2021-06-28 11:33:27 +00:00)\n"
          ],
          "name": "stdout"
        }
      ]
    },
    {
      "cell_type": "code",
      "metadata": {
        "colab": {
          "base_uri": "https://localhost:8080/"
        },
        "id": "xJiV0X8GZbbf",
        "outputId": "5d1d1acc-0a76-494c-c211-d81c49cedaa6"
      },
      "source": [
        "a.flatten()"
      ],
      "execution_count": 10,
      "outputs": [
        {
          "output_type": "execute_result",
          "data": {
            "text/plain": [
              "array([1, 2, 3, 4, 5, 4, 5, 6, 7, 8])"
            ]
          },
          "metadata": {
            "tags": []
          },
          "execution_count": 10
        },
        {
          "output_type": "stream",
          "text": [
            "time: 7.33 ms (started: 2021-06-28 11:34:12 +00:00)\n"
          ],
          "name": "stdout"
        }
      ]
    },
    {
      "cell_type": "code",
      "metadata": {
        "colab": {
          "base_uri": "https://localhost:8080/"
        },
        "id": "6A8cNFYoXNcn",
        "outputId": "c6cebc0a-43e1-411b-dc6f-fd168aec5180"
      },
      "source": [
        "#preprocessing\n",
        "\n",
        "import os\n",
        "import matplotlib.pyplot as plt\n",
        "import numpy as np\n",
        "from skimage.io import imread\n",
        "from skimage.transform import resize\n",
        "\n",
        "target = []\n",
        "images = []\n",
        "flat_data = []\n",
        "DATADIR = '/content/images'\n",
        "CATEGORIES = ['car','ice cream','motor bike']\n",
        "\n",
        "for category in CATEGORIES:\n",
        "  class_num = CATEGORIES.index(category)\n",
        "  path = os.path.join(DATADIR,category)\n",
        "  for img in os.listdir(path):\n",
        "    img_array = imread(os.path.join(path,img))\n",
        "    #print(img_array.shape)\n",
        "    #plt.imshow(img_array)\n",
        "    img_resized = resize(img_array,(150,150,3))\n",
        "    flat_data.append(img_resized.flatten())\n",
        "    images.append(img_resized)\n",
        "    target.append(class_num)\n",
        "\n",
        "flat_data = np.array(flat_data)\n",
        "target = np.array(target)\n",
        "images = np.array(images)"
      ],
      "execution_count": 48,
      "outputs": [
        {
          "output_type": "stream",
          "text": [
            "time: 51.1 s (started: 2021-06-28 13:30:24 +00:00)\n"
          ],
          "name": "stdout"
        }
      ]
    },
    {
      "cell_type": "code",
      "metadata": {
        "colab": {
          "base_uri": "https://localhost:8080/"
        },
        "id": "6IZUgIWEaKED",
        "outputId": "48ae2f78-f5c4-4685-b649-a48cab42f2c1"
      },
      "source": [
        "flat_data[0]"
      ],
      "execution_count": 49,
      "outputs": [
        {
          "output_type": "execute_result",
          "data": {
            "text/plain": [
              "array([0.99607843, 0.99607843, 0.99607843, ..., 0.99607843, 0.99607843,\n",
              "       0.99607843])"
            ]
          },
          "metadata": {
            "tags": []
          },
          "execution_count": 49
        },
        {
          "output_type": "stream",
          "text": [
            "time: 4.61 ms (started: 2021-06-28 13:31:22 +00:00)\n"
          ],
          "name": "stdout"
        }
      ]
    },
    {
      "cell_type": "code",
      "metadata": {
        "colab": {
          "base_uri": "https://localhost:8080/"
        },
        "id": "RyDPsGKrdWF7",
        "outputId": "d63ff8d4-7a48-43a2-8f73-04960fc9ecf5"
      },
      "source": [
        "target"
      ],
      "execution_count": 19,
      "outputs": [
        {
          "output_type": "execute_result",
          "data": {
            "text/plain": [
              "array([0, 0, 0, 0, 0, 0, 0, 0, 0, 0, 0, 0, 0, 0, 0, 0, 0, 0, 0, 0, 0, 0,\n",
              "       0, 0, 0, 0, 0, 0, 0, 0, 1, 1, 1, 1, 1, 1, 1, 1, 1, 1, 1, 1, 1, 1,\n",
              "       1, 1, 1, 1, 1, 1, 1, 1, 1, 1, 1, 1, 1, 1, 1, 1, 2, 2, 2, 2, 2, 2,\n",
              "       2, 2, 2, 2, 2, 2, 2, 2, 2, 2, 2, 2, 2, 2, 2, 2, 2, 2, 2, 2, 2, 2,\n",
              "       2, 2])"
            ]
          },
          "metadata": {
            "tags": []
          },
          "execution_count": 19
        },
        {
          "output_type": "stream",
          "text": [
            "time: 7.12 ms (started: 2021-06-28 11:51:46 +00:00)\n"
          ],
          "name": "stdout"
        }
      ]
    },
    {
      "cell_type": "code",
      "metadata": {
        "colab": {
          "base_uri": "https://localhost:8080/",
          "height": 299
        },
        "id": "aQQDKlBcdgOJ",
        "outputId": "8b320dad-7fd1-489f-f86c-647aa2e322e6"
      },
      "source": [
        "unique,count = np.unique(target,return_counts=True)\n",
        "plt.bar(CATEGORIES,count)"
      ],
      "execution_count": 21,
      "outputs": [
        {
          "output_type": "execute_result",
          "data": {
            "text/plain": [
              "<BarContainer object of 3 artists>"
            ]
          },
          "metadata": {
            "tags": []
          },
          "execution_count": 21
        },
        {
          "output_type": "display_data",
          "data": {
            "image/png": "[encoded data removed]",
            "text/plain": [
              "<Figure size 432x288 with 1 Axes>"
            ]
          },
          "metadata": {
            "tags": [],
            "needs_background": "light"
          }
        },
        {
          "output_type": "stream",
          "text": [
            "time: 141 ms (started: 2021-06-28 11:54:09 +00:00)\n"
          ],
          "name": "stdout"
        }
      ]
    },
    {
      "cell_type": "code",
      "metadata": {
        "colab": {
          "base_uri": "https://localhost:8080/"
        },
        "id": "uyexBDUzdtT8",
        "outputId": "e1ca280d-4cfb-4189-9a7a-f4b85631d692"
      },
      "source": [
        "#slipt data into Training and Testing\n",
        "\n",
        "from sklearn.model_selection import train_test_split\n",
        "x_train,x_test,y_train,y_test = train_test_split(flat_data,target,test_size=0.3,random_state=109)"
      ],
      "execution_count": 50,
      "outputs": [
        {
          "output_type": "stream",
          "text": [
            "time: 17.1 ms (started: 2021-06-28 13:31:35 +00:00)\n"
          ],
          "name": "stdout"
        }
      ]
    },
    {
      "cell_type": "code",
      "metadata": {
        "colab": {
          "base_uri": "https://localhost:8080/"
        },
        "id": "KhbC9QP4fMSQ",
        "outputId": "ab6a33c7-7894-4839-b99b-d80fcf3443c9"
      },
      "source": [
        "from sklearn.model_selection import GridSearchCV\n",
        "from sklearn.svm import SVC\n",
        "param_grid = [{'C':[1,10,100,1000],'kernel':['linear']},\n",
        "              {'C':[1,10,100,1000],'gamma':[0.001,0.0001],'kernel':['rbf']}]\n",
        "svc = svm.SVC(probability=True)\n",
        "clf = GridSearchCV(svc,param_grid)\n",
        "clf.fit(x_train,y_train)"
      ],
      "execution_count": 53,
      "outputs": [
        {
          "output_type": "execute_result",
          "data": {
            "text/plain": [
              "GridSearchCV(cv=None, error_score=nan,\n",
              "             estimator=SVC(C=1.0, break_ties=False, cache_size=200,\n",
              "                           class_weight=None, coef0=0.0,\n",
              "                           decision_function_shape='ovr', degree=3,\n",
              "                           gamma='scale', kernel='rbf', max_iter=-1,\n",
              "                           probability=True, random_state=None, shrinking=True,\n",
              "                           tol=0.001, verbose=False),\n",
              "             iid='deprecated', n_jobs=None,\n",
              "             param_grid=[{'C': [1, 10, 100, 1000], 'kernel': ['linear']},\n",
              "                         {'C': [1, 10, 100, 1000], 'gamma': [0.001, 0.0001],\n",
              "                          'kernel': ['rbf']}],\n",
              "             pre_dispatch='2*n_jobs', refit=True, return_train_score=False,\n",
              "             scoring=None, verbose=0)"
            ]
          },
          "metadata": {
            "tags": []
          },
          "execution_count": 53
        },
        {
          "output_type": "stream",
          "text": [
            "time: 1min 57s (started: 2021-06-28 13:34:50 +00:00)\n"
          ],
          "name": "stdout"
        }
      ]
    },
    {
      "cell_type": "code",
      "metadata": {
        "colab": {
          "base_uri": "https://localhost:8080/"
        },
        "id": "TC14L5e5r2hN",
        "outputId": "abf6a5bd-6597-46ed-9616-d191b822a223"
      },
      "source": [
        "y_pred = clf.predict(x_test)\n",
        "y_pred"
      ],
      "execution_count": 55,
      "outputs": [
        {
          "output_type": "execute_result",
          "data": {
            "text/plain": [
              "array([1, 0, 1, 0, 2, 1, 2, 1, 1, 0, 1, 2, 1, 2, 0, 1, 1, 1, 1, 1, 2, 2,\n",
              "       2, 0, 1, 0, 1])"
            ]
          },
          "metadata": {
            "tags": []
          },
          "execution_count": 55
        },
        {
          "output_type": "stream",
          "text": [
            "time: 185 ms (started: 2021-06-28 13:38:48 +00:00)\n"
          ],
          "name": "stdout"
        }
      ]
    },
    {
      "cell_type": "code",
      "metadata": {
        "colab": {
          "base_uri": "https://localhost:8080/"
        },
        "id": "BMbLcCdK1s_X",
        "outputId": "56d00950-0015-4482-9083-5128c53b16b0"
      },
      "source": [
        "y_test"
      ],
      "execution_count": 56,
      "outputs": [
        {
          "output_type": "execute_result",
          "data": {
            "text/plain": [
              "array([1, 0, 1, 2, 2, 1, 0, 1, 1, 0, 1, 0, 1, 2, 2, 1, 2, 1, 0, 1, 2, 2,\n",
              "       2, 0, 0, 0, 1])"
            ]
          },
          "metadata": {
            "tags": []
          },
          "execution_count": 56
        },
        {
          "output_type": "stream",
          "text": [
            "time: 3.2 ms (started: 2021-06-28 13:39:10 +00:00)\n"
          ],
          "name": "stdout"
        }
      ]
    },
    {
      "cell_type": "code",
      "metadata": {
        "colab": {
          "base_uri": "https://localhost:8080/"
        },
        "id": "6jB2vwIc2Ff2",
        "outputId": "23ff50b8-c669-4173-d872-ee9f78ebac74"
      },
      "source": [
        "from sklearn.metrics import accuracy_score,confusion_matrix"
      ],
      "execution_count": 57,
      "outputs": [
        {
          "output_type": "stream",
          "text": [
            "time: 1.14 ms (started: 2021-06-28 13:41:09 +00:00)\n"
          ],
          "name": "stdout"
        }
      ]
    },
    {
      "cell_type": "code",
      "metadata": {
        "colab": {
          "base_uri": "https://localhost:8080/"
        },
        "id": "D8gzuPep2irn",
        "outputId": "cd11957b-cd31-4468-d364-00ac7f9ef1e4"
      },
      "source": [
        "accuracy_score(y_pred,y_test)"
      ],
      "execution_count": 58,
      "outputs": [
        {
          "output_type": "execute_result",
          "data": {
            "text/plain": [
              "0.7407407407407407"
            ]
          },
          "metadata": {
            "tags": []
          },
          "execution_count": 58
        },
        {
          "output_type": "stream",
          "text": [
            "time: 3.73 ms (started: 2021-06-28 13:41:34 +00:00)\n"
          ],
          "name": "stdout"
        }
      ]
    },
    {
      "cell_type": "code",
      "metadata": {
        "colab": {
          "base_uri": "https://localhost:8080/"
        },
        "id": "ppA63fn62opp",
        "outputId": "84436812-0e62-49a4-fde3-c84f515a0b47"
      },
      "source": [
        "confusion_matrix(y_pred,y_test)"
      ],
      "execution_count": 59,
      "outputs": [
        {
          "output_type": "execute_result",
          "data": {
            "text/plain": [
              "array([[ 4,  0,  2],\n",
              "       [ 2, 11,  1],\n",
              "       [ 2,  0,  5]])"
            ]
          },
          "metadata": {
            "tags": []
          },
          "execution_count": 59
        },
        {
          "output_type": "stream",
          "text": [
            "time: 5.65 ms (started: 2021-06-28 13:42:55 +00:00)\n"
          ],
          "name": "stdout"
        }
      ]
    },
    {
      "cell_type": "code",
      "metadata": {
        "id": "UDWUXIzW3wXg"
      },
      "source": [
        ""
      ],
      "execution_count": null,
      "outputs": []
    },
    {
      "cell_type": "code",
      "metadata": {
        "colab": {
          "base_uri": "https://localhost:8080/"
        },
        "id": "BgeNEhRZ28c5",
        "outputId": "40301e17-4d7e-4977-acc8-45fa7a3f4f38"
      },
      "source": [
        "#save the model using pickel library\n",
        "import pickle\n",
        "pickle.dump(clf,open('img_model.p','wb'))"
      ],
      "execution_count": 62,
      "outputs": [
        {
          "output_type": "stream",
          "text": [
            "time: 111 ms (started: 2021-06-28 13:51:07 +00:00)\n"
          ],
          "name": "stdout"
        }
      ]
    },
    {
      "cell_type": "code",
      "metadata": {
        "colab": {
          "base_uri": "https://localhost:8080/"
        },
        "id": "OiK8jrRM3r0A",
        "outputId": "a5dbd4ed-5c99-4b89-a915-2dafaae0df07"
      },
      "source": [
        "model = pickle.load(open('img_model.p','rb'))"
      ],
      "execution_count": 63,
      "outputs": [
        {
          "output_type": "stream",
          "text": [
            "time: 23.3 ms (started: 2021-06-28 13:54:23 +00:00)\n"
          ],
          "name": "stdout"
        }
      ]
    },
    {
      "cell_type": "code",
      "metadata": {
        "colab": {
          "base_uri": "https://localhost:8080/",
          "height": 338
        },
        "id": "dSLlHmRt5kdU",
        "outputId": "706cae48-fd88-4375-ea96-c5c8edf07a2f"
      },
      "source": [
        "#testing brand new image\n",
        "flat_data = []\n",
        "url = input('Enter the url')\n",
        "img = imread(url)\n",
        "img_resized = resize(img,(150,150,3))\n",
        "flat_data.append(img_resized.flatten())\n",
        "flat_data = np.array(flat_data)\n",
        "print(img.shape)\n",
        "plt.imshow(img_resized)\n",
        "y_out = model.predict(flat_data)\n",
        "y_out = CATEGORIES[y_out[0]]\n",
        "print(f' PREDICTED OUTPUT: {y_out}')"
      ],
      "execution_count": 71,
      "outputs": [
        {
          "output_type": "stream",
          "text": [
            "Enter the urlhttps://hips.hearstapps.com/hmg-prod.s3.amazonaws.com/images/all-new-f-150-003-jpg-1618255219.jpg\n",
            "(2000, 3000, 3)\n",
            " PREDICTED OUTPUT: car\n"
          ],
          "name": "stdout"
        },
        {
          "output_type": "display_data",
          "data": {
            "image/png": "[encoded data removed]",
            "text/plain": [
              "<Figure size 432x288 with 1 Axes>"
            ]
          },
          "metadata": {
            "tags": [],
            "needs_background": "light"
          }
        },
        {
          "output_type": "stream",
          "text": [
            "time: 6.85 s (started: 2021-06-28 14:16:41 +00:00)\n"
          ],
          "name": "stdout"
        }
      ]
    },
    {
      "cell_type": "code",
      "metadata": {
        "id": "iFhdzryl710N"
      },
      "source": [
        ""
      ],
      "execution_count": null,
      "outputs": []
    }
  ]
}